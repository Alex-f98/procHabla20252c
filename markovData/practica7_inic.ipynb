{
 "cells": [
  {
   "cell_type": "code",
   "execution_count": 1,
   "metadata": {},
   "outputs": [],
   "source": [
    "%matplotlib widget\n",
    "\n",
    "from markov import *\n",
    "from matplotlib import animation\n",
    "from matplotlib import patches\n",
    "from matplotlib import gridspec\n",
    "from mpl_toolkits import mplot3d \n",
    "\n",
    "\n",
    "from threading import Event\n",
    "from math import *\n",
    "from random import randrange, uniform\n",
    "from scipy import stats as sps \n",
    "from scipy.io import loadmat\n"
   ]
  },
  {
   "cell_type": "code",
   "execution_count": 2,
   "metadata": {
    "scrolled": true
   },
   "outputs": [
    {
     "name": "stdout",
     "output_type": "stream",
     "text": [
      "(<markov.hmm object at 0x71d9df895750>, <markov.hmm object at 0x71d9df897950>, <markov.hmm object at 0x71d9df897e50>, <markov.hmm object at 0x71d9df8a4c90>, <markov.hmm object at 0x71d9df8a5610>, <markov.hmm object at 0x71d9df8a5f50>, <markov.hmm object at 0x71d9df8a68d0>)\n"
     ]
    },
    {
     "data": {
      "text/plain": [
       "{'means': array([[ 730., 1090.],\n",
       "        [ 270., 2290.],\n",
       "        [ 440., 1020.]]),\n",
       " 'vrs': array([[[ 1625.,  5300.],\n",
       "         [ 5300., 53300.]],\n",
       " \n",
       "        [[ 2525.,  1200.],\n",
       "         [ 1200., 36125.]],\n",
       " \n",
       "        [[ 8000.,  8400.],\n",
       "         [ 8400., 18500.]]]),\n",
       " 'trans': array([[0.  , 1.  , 0.  , 0.  , 0.  ],\n",
       "        [0.  , 0.95, 0.05, 0.  , 0.  ],\n",
       "        [0.  , 0.  , 0.95, 0.05, 0.  ],\n",
       "        [0.  , 0.  , 0.  , 0.95, 0.05],\n",
       "        [0.  , 0.  , 0.  , 0.  , 1.  ]]),\n",
       " 'dim': 2,\n",
       " 'numStates': 5,\n",
       " 'devs': array([[[ 35.,  20.],\n",
       "         [ 20., 230.]],\n",
       " \n",
       "        [[ 50.,   5.],\n",
       "         [  5., 190.]],\n",
       " \n",
       "        [[ 80.,  40.],\n",
       "         [ 40., 130.]]])}"
      ]
     },
     "execution_count": 2,
     "metadata": {},
     "output_type": "execute_result"
    }
   ],
   "source": [
    "x = loadmat('data.mat')\n",
    "X1, X2, X3, X4, X5, X6 = x['X1'], x['X2'], x['X3'], x['X4'], x['X5'], x['X6']\n",
    "Z1 = x['ST1'].astype(int)[0]-1 \n",
    "Z2 = x['ST2'].astype(int)[0]-1\n",
    "Z3 = x['ST3'].astype(int)[0]-1\n",
    "Z4 = x['ST4'].astype(int)[0]-1\n",
    "Z5 = x['ST5'].astype(int)[0]-1\n",
    "Z6 = x['ST6'].astype(int)[0]-1\n",
    "\n",
    "HMM = GenData()\n",
    "print(HMM)\n",
    "HMM[3].__dict__"
   ]
  },
  {
   "cell_type": "code",
   "execution_count": 3,
   "metadata": {},
   "outputs": [
    {
     "name": "stdout",
     "output_type": "stream",
     "text": [
      "[[0.  1.  0.  0.  0. ]\n",
      " [0.  0.4 0.3 0.3 0. ]\n",
      " [0.  0.3 0.4 0.3 0. ]\n",
      " [0.  0.3 0.3 0.3 0.1]\n",
      " [0.  0.  0.  0.  1. ]]\n",
      "[[0.    1.    0.    0.    0.   ]\n",
      " [0.    0.95  0.025 0.025 0.   ]\n",
      " [0.    0.025 0.95  0.025 0.   ]\n",
      " [0.    0.02  0.02  0.95  0.01 ]\n",
      " [0.    0.    0.    0.    1.   ]]\n",
      "[[0.  1.  0.  0.  0. ]\n",
      " [0.  0.5 0.5 0.  0. ]\n",
      " [0.  0.  0.5 0.5 0. ]\n",
      " [0.  0.  0.  0.5 0.5]\n",
      " [0.  0.  0.  0.  1. ]]\n"
     ]
    }
   ],
   "source": [
    "print(HMM[0].trans)\n",
    "print(HMM[1].trans)\n",
    "print(HMM[2].trans)"
   ]
  },
  {
   "cell_type": "code",
   "execution_count": null,
   "metadata": {},
   "outputs": [],
   "source": []
  }
 ],
 "metadata": {
  "kernelspec": {
   "display_name": "Python 3",
   "language": "python",
   "name": "python3"
  },
  "language_info": {
   "codemirror_mode": {
    "name": "ipython",
    "version": 3
   },
   "file_extension": ".py",
   "mimetype": "text/x-python",
   "name": "python",
   "nbconvert_exporter": "python",
   "pygments_lexer": "ipython3",
   "version": "3.11.7"
  }
 },
 "nbformat": 4,
 "nbformat_minor": 4
}
